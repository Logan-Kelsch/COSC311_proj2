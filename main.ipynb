{
 "cells": [
  {
   "cell_type": "markdown",
   "metadata": {},
   "source": [
    "### COSC 311 - Project 2<br>\n",
    "#### Logan Kelsch<br>"
   ]
  },
  {
   "cell_type": "code",
   "execution_count": 90,
   "metadata": {},
   "outputs": [
    {
     "name": "stdout",
     "output_type": "stream",
     "text": [
      "Center 1:\t[-35.42 -55.94 -55.73 -36.67 -67.33 -71.59 -72.57]\n",
      "Center 2:\t[-62.47 -56.3  -60.54 -64.19 -70.26 -82.95 -84.07]\n",
      "Center 3:\t[-60.14 -55.21 -50.65 -61.29 -49.47 -87.03 -87.  ]\n",
      "Center 4:\t[-49.13 -55.17 -53.31 -50.01 -64.06 -80.94 -81.84]\n",
      "\n",
      "Clustering Accuracy:\t95.45%\n",
      "\n",
      "Room 1 Clustering Accuracy:\t99.2%\n",
      "Room 2 Clustering Accuracy:\t85.0%\n",
      "Room 3 Clustering Accuracy:\t98.4%\n",
      "Room 4 Clustering Accuracy:\t99.2%\n"
     ]
    }
   ],
   "source": [
    "'''1. CLUSTERING FOR WIRELESS INDOOR LOCALIZATION'''\n",
    "\n",
    "# DATASET:  wifi_localization.txt\n",
    "# TASKS:    Use k-means clustering\n",
    "\n",
    "#import libraries\n",
    "import pandas as pd\n",
    "import numpy as np\n",
    "import matplotlib.pyplot as plt\n",
    "from sklearn.metrics import accuracy_score\n",
    "from sklearn.cluster import KMeans\n",
    "from sklearn.metrics import pairwise_distances_argmin\n",
    "\n",
    "#grab dataset\n",
    "data = pd.read_csv('wifi_localization.txt', sep='\\t', header=None)\n",
    "\n",
    "#split into features and targets\n",
    "X = data.iloc[:, :-1].values\n",
    "y = data.iloc[:, -1].values\n",
    "\n",
    "#prep kmeans              =4 rooms\n",
    "kmeans = KMeans(n_clusters=4)\n",
    "kmeans.fit(X)\n",
    "#kmeans.transform(X)\n",
    "\n",
    "#declare predictions and set center values\n",
    "y_kmeans = kmeans.predict(X)\n",
    "centers = kmeans.cluster_centers_\n",
    "\n",
    "#NOTE SECTION 1 TASK COMPLETION HERE\n",
    "#center printouts\n",
    "for i in range(len(centers)):\n",
    "    centers[i] = centers[i]*100//1/100\n",
    "    print(f'Center {i+1}:\\t{centers[i]}')\n",
    "\n",
    "# I have pulled this function from our class notes, as it \n",
    "# is the most concise version of cluster matching I could find.\n",
    "def find_clusters(X, n_clusters, rseed=2):\n",
    "    # 1. Randomly choose clusters\n",
    "    rng = np.random.RandomState(rseed)\n",
    "    i = rng.permutation(X.shape[0])[:n_clusters] # X.shape returns (300, 2), X.shape[0] returns 300\n",
    "    centers = X[i]\n",
    "    \n",
    "    while True:\n",
    "        # 2a. Assign labels based on closest center\n",
    "        labels = pairwise_distances_argmin(X, centers)\n",
    "        # 2b. Find new centers from means of points\n",
    "        new_centers = np.array([X[labels == i].mean(0)\n",
    "                                for i in range(n_clusters)])\n",
    "        # 2c. Check for convergence\n",
    "        if np.all(centers == new_centers):\n",
    "            break\n",
    "        centers = new_centers\n",
    "    \n",
    "    return centers, labels\n",
    "\n",
    "#function exection, cluster label-to-target matching\n",
    "centers, y_pred = find_clusters(X, 4)\n",
    "\n",
    "#readjust calculated labels for exact valuation\n",
    "for i in range(len(y_pred)):\n",
    "    y_pred[i]= ((((y_pred[i] - 4) *-1) %4) +1)\n",
    "\n",
    "#NOTE SECTION 2 TASK COMPLETION\n",
    "#total clustering accuracy printout\n",
    "print(f'\\nClustering Accuracy:\\t{100*accuracy_score(y_pred, y)}%\\n')\n",
    "\n",
    "#allign y_pred, y_true\n",
    "ys = (np.column_stack((y_pred,y)))\n",
    "\n",
    "#seperate all predictions by different ACTUAL rooms\n",
    "rooms = []\n",
    "#index of 'rooms' will be room number minus 1\n",
    "for i in range(1,5):\n",
    "    rooms.append(ys[ys[:,1] == i])\n",
    "\n",
    "#NOTE SECTION 3 TASK COMPLETION\n",
    "#individual room clustering accuracy printout\n",
    "for i in range(4):\n",
    "    print(f'Room {i+1} Clustering Accuracy:\\t{100*accuracy_score(rooms[i][:,0],rooms[i][:,1])}%')"
   ]
  },
  {
   "cell_type": "code",
   "execution_count": null,
   "metadata": {},
   "outputs": [
    {
     "name": "stdout",
     "output_type": "stream",
     "text": [
      "Dimensions reduced from 64 to 21.\n",
      "\n"
     ]
    }
   ],
   "source": [
    "'''2. PCA based hand-written digits classification'''\n",
    "\n",
    "# DATASET:  UCI ML - from - sklearn and 'COSC311_Module5_4_Kmeans clustering'\n",
    "# TASKS:    Conduct PCA analysis and CVT \n",
    "\n",
    "#import libraries\n",
    "from sklearn.datasets import load_digits\n",
    "from sklearn.decomposition import PCA\n",
    "\n",
    "#load and prep dataset\n",
    "data = load_digits(as_frame=True)\n",
    "data = data.frame\n",
    "X = data.iloc[:,:-1]\n",
    "y = data.iloc[:,-1]\n",
    "\n",
    "#pca initiation\n",
    "pca = PCA()\n",
    "pca.fit(X)\n",
    "\n",
    "#PCA primary component and variance calculation\n",
    "cumulative_variance = np.cumsum(pca.explained_variance_ratio_)\n",
    "n_components = np.argmax(cumulative_variance >= 0.9) + 1\n",
    "\n",
    "#PCA final prep and data transformation\n",
    "pca = PCA(n_components = n_components)\n",
    "X_pca = pca.fit_transform(X)\n",
    "\n",
    "#dimension reduction confirmation printout\n",
    "print(f'Dimensions reduced from {X.shape[1]} to {X_pca.shape[1]}.\\n')"
   ]
  },
  {
   "cell_type": "code",
   "execution_count": 4,
   "metadata": {},
   "outputs": [
    {
     "data": {
      "text/plain": [
       "'3. Regression model for median house value prediction'"
      ]
     },
     "execution_count": 4,
     "metadata": {},
     "output_type": "execute_result"
    }
   ],
   "source": [
    "'''3. Regression model for median house value prediction'''\n",
    "\n",
    "# DATASET:  housing.csv\n",
    "# TASKS:    collect most correlated features, train MLR model"
   ]
  }
 ],
 "metadata": {
  "kernelspec": {
   "display_name": "logankelsch",
   "language": "python",
   "name": "python3"
  },
  "language_info": {
   "codemirror_mode": {
    "name": "ipython",
    "version": 3
   },
   "file_extension": ".py",
   "mimetype": "text/x-python",
   "name": "python",
   "nbconvert_exporter": "python",
   "pygments_lexer": "ipython3",
   "version": "3.12.3"
  }
 },
 "nbformat": 4,
 "nbformat_minor": 2
}
