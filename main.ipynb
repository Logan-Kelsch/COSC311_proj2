{
 "cells": [
  {
   "cell_type": "markdown",
   "metadata": {},
   "source": [
    "### COSC 311 - Project 2<br>\n",
    "#### Logan Kelsch<br>"
   ]
  },
  {
   "cell_type": "code",
   "execution_count": 2,
   "metadata": {},
   "outputs": [
    {
     "data": {
      "text/plain": [
       "'1. CLUSTERING FOR WIRELESS INDOOR LOCALIZATION'"
      ]
     },
     "execution_count": 2,
     "metadata": {},
     "output_type": "execute_result"
    }
   ],
   "source": [
    "'''1. CLUSTERING FOR WIRELESS INDOOR LOCALIZATION'''\n",
    "\n",
    "# DATASET:  wifi_localization.txt\n",
    "# TASKS:    Use k-means clustering"
   ]
  },
  {
   "cell_type": "code",
   "execution_count": 3,
   "metadata": {},
   "outputs": [
    {
     "data": {
      "text/plain": [
       "'2. PCA based hand-written digits classification'"
      ]
     },
     "execution_count": 3,
     "metadata": {},
     "output_type": "execute_result"
    }
   ],
   "source": [
    "'''2. PCA based hand-written digits classification'''\n",
    "\n",
    "# DATASET:  UCI ML - from - sklearn and 'COSC311_Module5_4_Kmeans clustering'\n",
    "# TASKS:    Conduct PCA analysis and CVT "
   ]
  },
  {
   "cell_type": "code",
   "execution_count": 4,
   "metadata": {},
   "outputs": [
    {
     "data": {
      "text/plain": [
       "'3. Regression model for median house value prediction'"
      ]
     },
     "execution_count": 4,
     "metadata": {},
     "output_type": "execute_result"
    }
   ],
   "source": [
    "'''3. Regression model for median house value prediction'''\n",
    "\n",
    "# DATASET:  housing.csv\n",
    "# TASKS:    collect most correlated features, train MLR model"
   ]
  }
 ],
 "metadata": {
  "kernelspec": {
   "display_name": "logankelsch",
   "language": "python",
   "name": "python3"
  },
  "language_info": {
   "codemirror_mode": {
    "name": "ipython",
    "version": 3
   },
   "file_extension": ".py",
   "mimetype": "text/x-python",
   "name": "python",
   "nbconvert_exporter": "python",
   "pygments_lexer": "ipython3",
   "version": "3.12.3"
  }
 },
 "nbformat": 4,
 "nbformat_minor": 2
}
